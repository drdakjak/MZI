{
 "cells": [
  {
   "cell_type": "code",
   "execution_count": 5,
   "metadata": {
    "collapsed": true
   },
   "outputs": [],
   "source": [
    "# Zdroj: http://mi21.vsb.cz/sites/mi21.vsb.cz/files/unit/linearni_algebra_s_matlabem.pdf"
   ]
  },
  {
   "cell_type": "code",
   "execution_count": 1,
   "metadata": {
    "collapsed": false
   },
   "outputs": [],
   "source": [
    "import sys, getopt\n",
    "import numpy as np\n",
    "from numpy.linalg import norm\n",
    "import scipy.sparse as sp\n",
    "import pandas as pd"
   ]
  },
  {
   "cell_type": "code",
   "execution_count": 2,
   "metadata": {
    "collapsed": true
   },
   "outputs": [],
   "source": [
    "def main(argv):\n",
    "    inputfile = ''\n",
    "    try:\n",
    "        opts, args = getopt.getopt(argv,\"hfdi:\",[\"ifile=\"])\n",
    "    except getopt.GetoptError:\n",
    "        print( 'qr.py {-f (full);-d (dict)} -i <inputfile>')\n",
    "        sys.exit(2)\n",
    "    \n",
    "    for opt, arg in opts:\n",
    "        if opt == '-h':\n",
    "            print( 'qr.py {-f (full);-d (dict)} -i <inputfile>')\n",
    "            sys.exit()\n",
    "        elif opt in (\"-i\", \"--ifile\"):\n",
    "            inputfile = arg\n",
    "        elif opt == \"-f\":\n",
    "            r = \"f\"\n",
    "        elif opt == \"-d\":\n",
    "            r = \"d\"\n",
    "            \n",
    "    print( 'Input file is \"', inputfile)\n",
    "    \n",
    "    Q, R = QR_decomp(inputfile, r)"
   ]
  },
  {
   "cell_type": "code",
   "execution_count": 3,
   "metadata": {
    "collapsed": false
   },
   "outputs": [],
   "source": [
    "def QR_decomp(inputfile, opt):\n",
    "    data = pd.read_csv(inputfile,delimiter=';',header=None)\n",
    "    if(opt=='f'):\n",
    "#         display(data)\n",
    "        A = sp.lil_matrix(data)\n",
    "    elif(opt=='d'):\n",
    "#         display(data)\n",
    "        row = data[0]\n",
    "        col = data[1]\n",
    "        data = data[2]\n",
    "        A = sp.coo_matrix((data, (row, col))).tolil()\n",
    "        \n",
    "    \n",
    "    m = A.shape[0]\n",
    "    n = A.shape[1]\n",
    "    Q = sp.eye(m = m).tolil()\n",
    "    R=A\n",
    "    for j in range(n):\n",
    "        for i in range(m-1, j, -1):\n",
    "            x = R[:,j]\n",
    "            if(norm([x[i-1],x[i]]) > 0):\n",
    "                c = x[i-1]/norm([x[i-1],x[i]])\n",
    "                s = -x[i]/norm([x[i-1],x[i]])\n",
    "                G = sp.eye(m = m).tolil()\n",
    "                G[i-1,i-1:i+1] = [round(c.item(),8), round(s.item(),8)]\n",
    "                G[i,i-1:i+1] = [round(-s.item(),8),round(c.item(),8)]\n",
    "                R = G.T.dot(R)\n",
    "                Q = Q.dot(G)\n",
    "    if(opt=='f'):\n",
    "        Q, R = np.nan_to_num(Q.todense()), np.nan_to_num(R.todense()).round(8)\n",
    "        np.savetxt(\"Q_f.csv\", Q, delimiter=\";\")\n",
    "        np.savetxt(\"R_f.csv\", R, delimiter=\";\")\n",
    "        return Q, R\n",
    "\n",
    "    if(opt=='d'):\n",
    "        Q = sp.coo_matrix(Q)\n",
    "        R.data = R.data.round(8)\n",
    "        R.eliminate_zeros()\n",
    "        R = sp.coo_matrix(R)\n",
    "        pd.DataFrame([Q.row, Q.col, Q.data]).T.to_csv(\"Q_d.csv\",delimiter=\";\",header=False, index_label= False)\n",
    "        pd.DataFrame([R.row, R.col, R.data]).T.to_csv(\"R_d.csv\",delimiter=\";\",header=False, index_label= False)\n",
    "\n",
    "        return Q, R"
   ]
  },
  {
   "cell_type": "code",
   "execution_count": 4,
   "metadata": {
    "collapsed": false
   },
   "outputs": [],
   "source": [
    "if __name__ == \"__main__\":\n",
    "    main(sys.argv[1:])"
   ]
  },
  {
   "cell_type": "code",
   "execution_count": 76,
   "metadata": {
    "collapsed": false
   },
   "outputs": [
    {
     "data": {
      "text/plain": [
       "matrix([[ 1.,  1.,  1., ...,  1.,  1.,  1.],\n",
       "        [ 1.,  1.,  1., ...,  1.,  1.,  1.],\n",
       "        [ 1.,  1.,  1., ...,  1.,  1.,  1.],\n",
       "        ..., \n",
       "        [ 1.,  1.,  1., ...,  1.,  1.,  1.],\n",
       "        [ 1.,  1.,  1., ...,  1.,  1.,  1.],\n",
       "        [ 1.,  1.,  1., ...,  1.,  1.,  1.]])"
      ]
     },
     "execution_count": 76,
     "metadata": {},
     "output_type": "execute_result"
    }
   ],
   "source": [
    "# sp.coo_matrix(A).ceil().todense()\n",
    "# A = np.random.rand(50*100).reshape(50,100)\n",
    "# np.savetxt(\"M.csv\", A, delimiter=\";\")\n",
    "# pd.DataFrame([sp.coo_matrix(A).row, sp.coo_matrix(A).col, sp.coo_matrix(A).data]).T.to_csv(\"M_sparse.csv\",sep=\";\",header=False, index= False)"
   ]
  },
  {
   "cell_type": "code",
   "execution_count": 77,
   "metadata": {
    "collapsed": true
   },
   "outputs": [],
   "source": []
  },
  {
   "cell_type": "code",
   "execution_count": 78,
   "metadata": {
    "collapsed": false
   },
   "outputs": [],
   "source": []
  },
  {
   "cell_type": "code",
   "execution_count": 79,
   "metadata": {
    "collapsed": false
   },
   "outputs": [],
   "source": []
  },
  {
   "cell_type": "code",
   "execution_count": 80,
   "metadata": {
    "collapsed": false,
    "scrolled": true
   },
   "outputs": [],
   "source": []
  },
  {
   "cell_type": "code",
   "execution_count": null,
   "metadata": {
    "collapsed": true
   },
   "outputs": [],
   "source": []
  }
 ],
 "metadata": {
  "kernelspec": {
   "display_name": "IPython (Python 3)",
   "language": "python",
   "name": "python3"
  },
  "language_info": {
   "codemirror_mode": {
    "name": "ipython",
    "version": 3
   },
   "file_extension": ".py",
   "mimetype": "text/x-python",
   "name": "python",
   "nbconvert_exporter": "python",
   "pygments_lexer": "ipython3",
   "version": "3.5.1"
  }
 },
 "nbformat": 4,
 "nbformat_minor": 0
}
